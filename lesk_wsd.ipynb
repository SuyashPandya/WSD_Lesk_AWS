{
 "cells": [
  {
   "cell_type": "code",
   "execution_count": 1,
   "id": "d646d9a6",
   "metadata": {},
   "outputs": [],
   "source": [
    "import nltk\n",
    "from nltk.corpus import wordnet as wn\n",
    "from nltk.stem import PorterStemmer\n",
    "from itertools import chain\n",
    "from nltk import pos_tag\n",
    "from sys import stdout\n",
    "from nltk.tokenize import sent_tokenize, word_tokenize\n",
    "from nltk.stem import WordNetLemmatizer\n",
    "# lemmatizer = WordNetLemmatizer()\n",
    "ps = PorterStemmer()\n"
   ]
  },
  {
   "cell_type": "code",
   "execution_count": 2,
   "id": "b0d58740",
   "metadata": {},
   "outputs": [],
   "source": [
    "text = \"break cut run play make light clear draw give hold set fall take head pass call carry charge point catch check turn close get right cover lift line open go beat drive work roll drop place clean lead raise base blow heavy mark return back block strike good rise stock touch down slip snap keep round see sound square stick white crack direct flat follow order pull stand center dip form ground hit pitch post press settle shift short spread twist black, case, come, deal, face, free, hard, pack, pound, release, shoot, start, stop, support, swing, top, well dead, deep, develop, double, dress, field, fire, hot, jump, key, last, move, pick, step, straight, wash advance, burn, cast, change, control, discharge, fly, have, hook, reduce, sign, soft, spot, strain, stretch, tap, throw bar, breakup, dry, dull, flash, level, live, part, pop, rule, separate, strip address, bank, crash, end, figure, find, flip, flush, force, frame, hang, high, kill, land, loose, match, number, piece, position, present, quarter, rack, rest, rough, scale, score, service, shell, shot, solid, split, stamp, still, tender, tie active, bad, big, bound, drag, drift, exchange, extend, fair, feel, fix, home, job, leave, out, puff, range, register, regular, scratch, shock, slack, spike, squeeze, string, takein, train, trim, upset, walk, wild, yield balance, blast, blue, bolt, choke, cold, cross, crown, do, first, fit, float, foul, fret, hack, hand, issue, low, mean, model, offer, pickup, plate, ride, rush, seat, serve, show, smash, stay, stone, stroke, study, sweet, tight, track, waste act, air, answer, attack, band, bear, book, brush, bull, dark, easy, escape, fast, finish, flare, grain, grant, gray, hunt, lock, loop, master, name, pin, push, rail, represent, review, ring, root, screen, seal, second, section, setup, shake, sharp, sweep, time, tone, transfer, true, wind account, approach, away, bag, be, bond, bow, chip, cloud, color, colour, corner, court, design, die, draft, even, firm, flow, foot, freeze, game, green, guard, heave, house, hurt, jack, kick, life, load, look, march, mold, nose, opening, outside, pit, plug, port, project, raw, render, reverse, secret, shade, shaft, side, stall, stuff, subject, switch, takeout, think, tip, trace, up, wave, young ball, bare, beam, bed, better, bill, bite, board, box, brace, broken, c, card, condition, counter, course, credit, cutting, dig, dirty, express, fresh, front, full, gain, grade, grey, hall, joint, link, major, man, mate, measure, medium, meet, mind, mount, natural, note, patch, pole, positive, process, quiet, rank, reach, real, receive, report, rich, sack, seed, sink, small, spare, spin, splash, superior, takeup, taste, test, thick, thin, thrust, tumble, union, use, view, visit, voice, watch, way, wrong action, average, bang, bend, bitter, bob, body, bottom, bowl, bridge, build, burst, butt, camp, chain, collar, comeup, command, commission, contract, convert, cool, correct, count, crop, crush, cry, dash, date, defense, deliver, deposit, dissolve, division, dock, extension, feed, flag, flick, flight, floor, focus, fold, forward, giveup, glass, glow, help, hitch, horn, just, know, long, minor, miss, negative, net, passing, pay, picture, pinch, prime, proof, puddle, queen, read, recall, record, ruffle, ruin, save, say, shadow, silver, skin, smack, smooth, star, style, tack, tease, thing, title, tough, trade, trap, trip, trust, turnout, warm, weak, wear, wing, withdraw accept, ace, aim, begin, bell, bind, bit, bright, bring, cap, capital, capture, care, carrier, centre, channel, chop, circle, claim, click, clinch, clip, club, collapse, comeout, compound, concentrate, connect, contact, core, crab, cup, cycle, decline, defence, demand, exercise, fail, false, fill, flap, flux, gather, gauge, getoff, grass, grind, guide, heat, heel, hood, host, ice, image, intimate, irregular, jackson, jam, jerk, knock, lap, large, late, like, liquid, mass, mat, material, mature, mould, mouth, movement, new, notice, obscure, offset, operation, opposite, pad, pall, pile, plain, plaster, pocket, pool, power, prick, print, pump, question, radical, rag, rat, rear, reference, relief, relieve, reserve, resistance, resolution, retire, retreat, ridge, rig, running, secure, shape, shine, shower, slick, slow, so, soak, sour, source, spoil, spring, standard, state, stiff, stir, suffer, swallow, swell, tail, talk, transport, troll, trouble, upgrade, value, variation, wheel, whip, whistle, wide, wilson, word allow, alternate, apply, around, badly, bat, bay, belt, bid, blaze, blind, boom, border, bounce, brand, bust, canvass, cat, character, clap, clutch, combine, common, compact, company, complete, concord, content, continue, cradle, crank, curve, day, depression, digest, dim, distribute, divine, drink, dump, edge, edward, empty, engage, explode, expose, exposure, extract, factor, far, fine, flood, fox, function, general, gentle, grace, grand, grip, gross, grow, gum, hammer, heart, hole, idle, inactive, indifferent, inside, interest, introduce, james, king, knot, labor, lean, left, lie, little, living, lodge, lose, lost, love, maintain, makeout, mantle, moderate, nail, narrow, pace, paddle, panel, passage, pattern, peg, perch, plant, plunge, poke, pot, practice, program, projection, purge, put, puton, putout, race, radiate, rally, rap, ray, regard, regenerate, representation, romance, runner, scene, school, scrape, screw, share, sheet, single, sit, skim, slice, slide, slug, smell, smith, smoke, softness, space, spat, special, speed, spell, spill, spiral, spur, stage, stake, steady, stem, sting, stream, strong, submit, suit, sure, surface, tag, tongue, tramp, translate, tread, treat, try, under, undercut, vote, water, waver, weight, west, wish, yoke, zero\"\n"
   ]
  },
  {
   "cell_type": "code",
   "execution_count": 3,
   "id": "e1d465d1",
   "metadata": {},
   "outputs": [],
   "source": [
    "text = text.replace(\",\", \"\")"
   ]
  },
  {
   "cell_type": "code",
   "execution_count": 4,
   "id": "d1922462",
   "metadata": {},
   "outputs": [],
   "source": [
    "ambg_words = text.split()\n",
    "# ambg_words"
   ]
  },
  {
   "cell_type": "code",
   "execution_count": 6,
   "id": "6a2c2f9a",
   "metadata": {},
   "outputs": [],
   "source": [
    "def lesk(context_sentence, ambiguous_word, pos=None, stem=True, hyperhypo=True):\n",
    "    max_overlaps = 0; lesk_sense = None\n",
    "    context_sentence = context_sentence.split()\n",
    "    for ss in wn.synsets(ambiguous_word):\n",
    "        # If POS is specified.\n",
    "        if pos and ss.pos is not pos:\n",
    "            continue\n",
    "\n",
    "        lesk_dictionary = []\n",
    "\n",
    "        # Includes definition.\n",
    "        lesk_dictionary+= ss.definition().split()\n",
    "        # Includes lemma_names.\n",
    "        lesk_dictionary+= ss.lemma_names()\n",
    "        # Optional: includes lemma_names of hypernyms and hyponyms.\n",
    "        if hyperhypo == True:\n",
    "            lesk_dictionary+= list(chain(*[i.lemma_names() for i in ss.hypernyms()+ss.hyponyms()]))       \n",
    "        if stem == True: # Matching exact words causes sparsity, so lets match stems.\n",
    "            lesk_dictionary = [ps.stem(i) for i in lesk_dictionary]\n",
    "            context_sentence = [ps.stem(i) for i in context_sentence] \n",
    "\n",
    "        overlaps = set(lesk_dictionary).intersection(context_sentence)\n",
    "\n",
    "        if len(overlaps) > max_overlaps:\n",
    "            lesk_sense = ss\n",
    "            max_overlaps = len(overlaps)\n",
    "    return lesk_sense"
   ]
  },
  {
   "cell_type": "code",
   "execution_count": 8,
   "id": "5f95c325",
   "metadata": {},
   "outputs": [],
   "source": [
    "def call_lesk(ambg_sent):\n",
    "    n = len(ambg_sent)\n",
    "    for t in range(0,n):\n",
    "        s=0\n",
    "        for word in word_tokenize(ambg_sent[t]):\n",
    "            if ps.stem(word) in ambg_words:\n",
    "                s = s+1\n",
    "                print(\"Context:\",ambg_sent[t])\n",
    "                answer = lesk(ambg_sent[t],word)\n",
    "                print(\"Definition :\" ,('%s->' %word) , answer.definition())\n",
    "                print()\n",
    "        if s == 0:\n",
    "            print (\"Context:\", ambg_sent[t])\n",
    "            print (\"No Ambiguous word found in this sentence.\")\n",
    "    "
   ]
  },
  {
   "cell_type": "code",
   "execution_count": 9,
   "id": "7d7298c9",
   "metadata": {},
   "outputs": [
    {
     "name": "stdout",
     "output_type": "stream",
     "text": [
      "enter the texthe was running on the bank when killed\n",
      "Context: he was running on the bank when killed\n",
      "Definition : running-> the act of running; traveling on foot at a fast pace\n",
      "\n",
      "Context: he was running on the bank when killed\n",
      "Definition : bank-> sloping land (especially the slope beside a body of water)\n",
      "\n",
      "Context: he was running on the bank when killed\n",
      "Definition : killed-> thwart the passage of\n",
      "\n"
     ]
    }
   ],
   "source": [
    "ambg_sent = input(\"enter the text\")\n",
    "ambg_sent = sent_tokenize(ambg_sent)\n",
    "call_lesk(ambg_sent)\n"
   ]
  },
  {
   "cell_type": "code",
   "execution_count": null,
   "id": "f4d0ac22",
   "metadata": {},
   "outputs": [],
   "source": []
  },
  {
   "cell_type": "code",
   "execution_count": null,
   "id": "2ad3dc2b",
   "metadata": {},
   "outputs": [],
   "source": []
  },
  {
   "cell_type": "code",
   "execution_count": null,
   "id": "4fedd180",
   "metadata": {},
   "outputs": [],
   "source": []
  },
  {
   "cell_type": "code",
   "execution_count": null,
   "id": "9af5b13f",
   "metadata": {},
   "outputs": [],
   "source": []
  },
  {
   "cell_type": "code",
   "execution_count": null,
   "id": "a6740e6b",
   "metadata": {},
   "outputs": [],
   "source": []
  }
 ],
 "metadata": {
  "kernelspec": {
   "display_name": "Python 3",
   "language": "python",
   "name": "python3"
  },
  "language_info": {
   "codemirror_mode": {
    "name": "ipython",
    "version": 3
   },
   "file_extension": ".py",
   "mimetype": "text/x-python",
   "name": "python",
   "nbconvert_exporter": "python",
   "pygments_lexer": "ipython3",
   "version": "3.6.13"
  }
 },
 "nbformat": 4,
 "nbformat_minor": 5
}
